{
 "cells": [
  {
   "cell_type": "code",
   "execution_count": 1,
   "metadata": {},
   "outputs": [],
   "source": [
    "# 事件"
   ]
  },
  {
   "cell_type": "markdown",
   "metadata": {},
   "source": [
    "样本空间(再看抛硬币、丢色子)\n",
    "\n",
    "* 随机试验\n",
    "\n",
    "    * $E_1$：抛一枚硬币，分别用$H$和$T$表示出正面和反面\n",
    "    * $E_2$：将一枚硬币连抛三次，考虑正反面出现的情况\n",
    "    * $E_3$：掷一颗骰子，可能出现的点数\n",
    "    \n",
    "* 样本空间：一个试验所有可能的结果；样本空间的元素为样本点\n",
    "\n",
    "    * $S_1 = \\{H,T\\}$\n",
    "    * $S_2 = \\{HHH,HHT,HTH,THH,HTT,THT,TTH,TTT\\}$\n",
    "    * $S_3 = \\{1,2,3,4,5,6\\}$"
   ]
  },
  {
   "cell_type": "markdown",
   "metadata": {},
   "source": [
    "事件\n",
    "\n",
    "* 事件：样本空间的子集，满足某种条件的样本点组成的集合\n",
    "\n",
    "    * $E_2$中的事件$A_1$：第一次出现的是$H$，则$A_1 = \\{HHH,HHT,HTT\\}$；$A_2 = \\{HHH,TTT\\}$"
   ]
  },
  {
   "cell_type": "markdown",
   "metadata": {},
   "source": [
    "事件关系、频率、概率\n",
    "\n",
    "* 事件关系\n",
    "\n",
    "    * 和事件，$A∪B$\n",
    "    * 积事件，$A∩B$，通常就记做$AB$，上页中$A_1∩A_2 = \\{HHH\\}$\n",
    "    * 对立事件，$\\bar{A}$\n",
    "    \n",
    "* 频率：事件发生的频繁程度，频率稳定于概率(伯努利大数定理)\n",
    "\n",
    "* 概率：表征事件发生可能性大小\n",
    "\n",
    "    * $0 \\le P(A) \\le 1$\n",
    "    * $P(S) = 1$\n",
    "    * 可列可加：$AB = ∅$，则$P(A∪B) = P(A) + P(B)$\n",
    "\n",
    "* 加法公式：任意事件$A$和$B$，则有$P(A∪B) = P(A) + P(B) - P(AB)$"
   ]
  },
  {
   "cell_type": "markdown",
   "metadata": {},
   "source": [
    "古典概率计算\n",
    "\n",
    "* 抛硬币$E_2$事件，事件$A_1$为恰好有一次为正面，则$A_1 = \\{HHH,HHT,HTT\\}$，则$P(A_1) = \\frac{3}{8}$"
   ]
  },
  {
   "cell_type": "code",
   "execution_count": 2,
   "metadata": {},
   "outputs": [],
   "source": [
    "# 说明：古典概率假定所发生的事件都是等可能事件，比如抛硬币、掷色子"
   ]
  },
  {
   "cell_type": "markdown",
   "metadata": {},
   "source": [
    "非常简单的思考题：同时丢一个红色子和绿色子\n",
    "\n",
    "* 计算点数和为3的概率：点数和为3的就两种情况，故而有$\\frac{2}{6\\times6} = \\frac{1}{18}$\n",
    "\n",
    "\n",
    "* 计算点数和为6的概率：点数和为3的就六种情况，故而有$\\frac{6}{6\\times6} = \\frac{1}{6}$\n",
    "\n",
    "* 红色子或绿色子出现点数为1的概率，尝试利用$P(A∪B) = P(A) + P(B) - P(AB)$：$\\frac{1}{6} + \\frac{1}{6} - \\frac{1}{6\\times6} = \\frac{11}{36}$"
   ]
  },
  {
   "cell_type": "markdown",
   "metadata": {},
   "source": [
    "* 会计算更复杂的排列组合问题。经典问题：取球，放球，两人生日相同，次品率，分配学生等等，举一反三"
   ]
  },
  {
   "cell_type": "markdown",
   "metadata": {},
   "source": [
    "条件概率：走向贝叶斯\n",
    "\n",
    "* 将一枚硬币连抛两次，设事件$A$为至少有一次是$H$，事件$B$是两次投出同一面。求已知事件$A$发生的条件下事件$B$发生的概率\n",
    "\n",
    "* 样本空间$S = \\{HH,HT,TH,TT\\}$，$A = \\{HH,HT,TH\\}$，$B = \\{HH,TT\\}$\n",
    "\n",
    "* 则有$P(B|A) = \\frac{1}{3}$，显然这里$P(B) = \\frac{2}{4} ≠ P(B \\mid A)$\n",
    "\n",
    "* 另外$P(A) = \\frac{3}{4}$，$P(AB) = \\frac{1}{4}$，$P(B \\mid A) = \\frac{1}{3} = \\frac{P(AB)}{P(A)}$"
   ]
  },
  {
   "cell_type": "markdown",
   "metadata": {},
   "source": [
    "* $P(B|A) = \\frac{P(AB)}{P(A)}$\n",
    "\n",
    "* 与前面和公式类似，对于任意事件$B_1$，$B_2$，有$P(B_1∪B_2 \\mid A) = P(B_1 \\mid A) + P(B_2 \\mid A) - P(B_1B_2 \\mid A)$\n",
    "\n",
    "* $P(AB) = P(B \\mid A)P(A)$\n",
    "\n",
    "* 推广：$P(ABC) = P(C \\mid AB)P(AB) = P(C \\mid AB)P(B \\mid A)P(A)$\n",
    "\n",
    "     * $P(ABCD) = P(D|ABC)P(C|AB)P(B|A)P(A)$"
   ]
  },
  {
   "cell_type": "markdown",
   "metadata": {},
   "source": [
    "事件独立\n",
    "\n",
    "* 一般情况$P(B)≠P(B \\mid A)$，但当$A$和$B$独立时，有\n",
    "$$P(AB) = P(B \\mid A )P(A) = P(A)P(B)$$"
   ]
  },
  {
   "cell_type": "code",
   "execution_count": 3,
   "metadata": {},
   "outputs": [],
   "source": [
    "# 说明：A B两事件独立，则说明A的发生对比B的发生没有影响，故而有P(B)=P(B∣A)"
   ]
  },
  {
   "cell_type": "markdown",
   "metadata": {},
   "source": [
    "* 抛甲、乙两枚硬币，事件$A$为甲硬币出现$H$，事件$B$为乙硬币出现$H$，$S=\\{HH,HT,TH,TT\\}$，$P(B \\mid A) = P(B) = \\frac{1}{2}$"
   ]
  },
  {
   "cell_type": "markdown",
   "metadata": {},
   "source": [
    "全概率公式：走向贝叶斯\n",
    "\n",
    "* $P(B \\mid A) = \\frac{P(AB)}{P(A)}$中，$P(A)$有时候很难求，有无什么办法？\n",
    "\n",
    "* 对样本空间进行划分，$\\{1,2,3,4,5,6\\}$划分成$\\{1,2,3\\}$,$\\{4,5\\}$,$\\{6\\}$\n",
    "\n",
    "* 全概率公式：$P(A)=P(A \\mid B_1)P(B_1) + \\dots + P(A \\mid B_n)P(B_n)$\n",
    "\n",
    "* $n = 2$时，$$P(A) = P(A \\mid B)P(B) + P(A \\mid \\bar{B})P{(\\bar{B})}$$"
   ]
  },
  {
   "cell_type": "code",
   "execution_count": null,
   "metadata": {},
   "outputs": [],
   "source": [
    "# 全概率公式有点类似后面的边缘概率，如"
   ]
  },
  {
   "cell_type": "markdown",
   "metadata": {},
   "source": [
    "$$\\begin{align*}\n",
    "p(x) = \\sum_{z}p(x,z) &= p(x,z_1) + p(x,z_2) + \\dots + p(x,z_n) \\\\\n",
    "                      &= p(z_1)p(z_1 \\mid x) + p(z_2)p(z_2 \\mid x) + \\dots + p(z_n)p(z_n \\mid x)\n",
    "\\end{align*}$$"
   ]
  },
  {
   "cell_type": "markdown",
   "metadata": {},
   "source": [
    "贝叶斯公式\n",
    "\n",
    "* 最著名的贝叶斯公式 ($n = 2$)：\n",
    "\n",
    "$$P(B \\mid A) = \\frac{P(AB)}{P(A)} = \\frac{P(BA)}{P(A)} = \\frac{P(A \\mid B)P(B)}{P(A \\mid B)P(B) + P(A \\mid \\bar{B})P(\\bar{B})}$$\n",
    "\n",
    "* $n > 2$\n",
    "\n",
    "$$P(B_i \\mid A) = \\frac{P(A \\mid B_i)P(B_i)}{\\sum_{j=1}^nP(A \\mid B_j)P(B_j)},\\hspace{0.1cm}i = 1,2,\\dots,n$$"
   ]
  },
  {
   "cell_type": "code",
   "execution_count": null,
   "metadata": {},
   "outputs": [],
   "source": [
    "# 从贝叶斯公式中可以看出B的概率在知道A的情况下发生了变化，只有当A，B是两独立事件，则P(B)=P(B|A)"
   ]
  },
  {
   "cell_type": "markdown",
   "metadata": {},
   "source": [
    "贝叶斯应用举例(经典)\n",
    "\n",
    "* 假设吸毒者每次检测呈阳性(+)的概率为99%，而不吸毒每次检测呈阴性(-)的概率为99%。假设某公司对全体雇员进行吸毒检测，已知0.5%的雇员吸毒。请问每位检测结果呈阳性的雇员吸毒的概率有多高？\n",
    "\n",
    "    * $P(D) = 0.005$，代表雇员吸毒的概率\n",
    "    * $P(N) = 0.095$，代表雇员不吸毒的概率\n",
    "    * $P(+ \\mid D) = 0.99$，代表吸毒者呈阳性检出率\n",
    "    * $P(+ \\mid N) = 0.01$，代表不吸毒者阳性检出率\n",
    "    * $P(+)$，代表不考虑其它因素的影响的阳性检出率\n",
    "    \n",
    "    $$\\begin{align*}\n",
    "        P(D \\mid +) &= \\frac{P(+ \\mid D)P(D)}{P(+)} \\\\\n",
    "        &= \\frac{P(+ \\mid D)P(D)}{P(+ \\mid D)P(D) + P(+ \\mid N)(P(N))} \\\\\n",
    "        &= 0.3322\n",
    "       \\end{align*}$$"
   ]
  },
  {
   "cell_type": "markdown",
   "metadata": {},
   "source": [
    "贝叶斯公式再思考\n",
    "\n",
    "* 通常，$P(A \\mid B) ≠ P(B \\mid A)$，但是如何确定两者的关系？(溯源)\n",
    "\n",
    "    * 可得$P(B \\mid A) = \\frac{P(A \\mid B)P(B)}{P(A)}$\n",
    "    * 先验概率，后验概率"
   ]
  },
  {
   "cell_type": "code",
   "execution_count": 4,
   "metadata": {},
   "outputs": [],
   "source": [
    "# 说明：AB为独立等可能事件时，P(A∣B)=P(B∣A) \n",
    "# P(B)是先验概率，P(B|A)是后验概率，P(B)的概率在A发生的情况下，会发生变化，继而有了先验和后验之分\n",
    "# 整个贝叶斯公式是由条件概率和全概率公式组成\n",
    "# AB两事件存在关联，都可以使用贝叶斯公式，且一事件是另一事件的先验，另一事件则是后验"
   ]
  },
  {
   "cell_type": "markdown",
   "metadata": {},
   "source": [
    "垃圾邮件过滤\n",
    "\n",
    "* 给定一封邮件，判定它是否属于垃圾邮件。用$D$来表示这封邮件，注意$D$由$N$个单词组成。用$h+$来表示垃圾邮件，$h-$表示正常邮件\n",
    "\n",
    "    * $P(h+ \\mid D) = \\frac{P(D \\mid h+)P(h+)}{P(D)}$\n",
    "    * $P(d_1,d_2,\\dots,d_n \\mid h+)$扩展为$\\dots \\times P(d_3 \\mid d_1,d_2,h+) \\times P(d_2 \\mid d_1,h+) \\times P(d_1 \\mid h+)$\n",
    "    * 朴素贝叶斯的含义$P(d_3 \\mid d_1,d_2,h+) \\times P(d_2 \\mid d_1,h+) \\times P(d_1 \\mid h+)$"
   ]
  },
  {
   "cell_type": "code",
   "execution_count": 5,
   "metadata": {},
   "outputs": [],
   "source": [
    "# 说明：朴素贝叶斯假设词与词之间没有关联，相互独立(用于简化问题)，继而有公式化简得\n",
    "# P(dn|h+)...P(d3|h+)P(d2|h+)P(d1|h+)\n",
    "# 这边假定垃圾邮件的概率和不是垃圾邮件的概率都为0.5，这是先验概率，实际可以通过训练数据先得到一个概率，再用于预测新邮件\n",
    "# 而对于垃圾词库概率构建也可以通过训练数据来获得，或者直接使用现成的数据"
   ]
  },
  {
   "cell_type": "markdown",
   "metadata": {},
   "source": [
    "朴素贝叶斯\n",
    "\n",
    "垃圾邮件过滤\n",
    "\n",
    "$$P(d_1 \\mid h+) \\times P(d_2 \\mid h+) \\times P(d_3 \\mid h+) \\times \\dots = 0.007 * 0.005 * \\dots$$\n",
    "\n",
    "$$P(d_1 \\mid h-) \\times P(d_2 \\mid h-) \\times P(d_3 \\mid h-) \\times \\dots = 0.00002 * 0.0045 * \\dots$$"
   ]
  },
  {
   "cell_type": "code",
   "execution_count": 6,
   "metadata": {},
   "outputs": [],
   "source": [
    "# 说明：我们需要对垃圾邮件建立一个属于垃圾邮件词汇的语料库，并预先统计出其对应的垃圾邮件和不是垃圾邮件的概率\n",
    "# 并且假定是垃圾邮件的概率和不是垃圾邮件的概率相同，即h+=h-=1/2。\n",
    "# 实际过程使用log，取加法，不然越乘越小\n",
    "# 使用模型统计出各个词是垃圾邮件和不是垃圾邮件的概率\n",
    "# 然后再对新邮件计算其P(h+∣D)和P(h-∣D)，若P(h+∣D)>>P(h-∣D)，则说明其肯定是垃圾邮件"
   ]
  },
  {
   "cell_type": "code",
   "execution_count": 7,
   "metadata": {},
   "outputs": [],
   "source": [
    "# 随机变量\n",
    "# 理解随机变量：https://www.zybang.com/question/63bf28b7ac8a1f2cf129192ee367d539.html"
   ]
  },
  {
   "cell_type": "markdown",
   "metadata": {},
   "source": [
    "随机变量(随机事件的数量表现)\n",
    "\n",
    "* $S_2 = \\{HHH,HHT,HTH,THH,HTT,THT,TTH,TTT\\}$，以$X$记为三次投掷得到正面$H$的总数，即样本空间中每个样本点，$X$都有一个数与之对应。\n",
    "\n",
    "* $P(A) = P\\{HHT,HTH,THH\\} = P\\{X = 2\\} = 3/8$\n",
    "\n",
    "* 随机变量的取值可能离散或者连续，注意对比\n",
    "\n",
    "    * 离散随机变量\n",
    "    * 连续随机变量"
   ]
  },
  {
   "cell_type": "markdown",
   "metadata": {},
   "source": [
    "一维离散随机变量(和连续的对比)\n",
    "\n",
    "* 分布率PMF：$P\\{X = x_k\\} = p_k,\\hspace{0.1cm}k=1,2,\\dots$\n",
    "\n",
    "    * $p_k \\ge 0$\n",
    "    * $\\sum p_k = 1$\n",
    "    \n",
    "* 分布函数：$F_X(x) = P\\{X \\le x\\}$，因此$P\\{x_1 < X \\le x_2\\} = P\\{X \\le x_2\\} - P\\{X \\le x_1\\} = F_X(x_2) - F_X(x_1)$，即已知$X$的分布函数，就知道$X$落在任一区间的概率"
   ]
  },
  {
   "cell_type": "code",
   "execution_count": 8,
   "metadata": {},
   "outputs": [],
   "source": [
    "# 离散的随机变量，衡量的是满足要求的样本点的分布情况，也就是分布律\n",
    "# 一般是说在随机重复多次试验，获得的样本点分布情况\n",
    "# 引入随机变量，更是从概率到统计的进阶，可以量化计算\n",
    "# 分布函数：随机变量满足某种函数关系，通过变换随机变量，可以统计出任意随机变量的概率情况"
   ]
  },
  {
   "cell_type": "markdown",
   "metadata": {},
   "source": [
    "一维连续随机变量(和离散的对比)\n",
    "\n",
    "* 概率密度PDF：$f(x)=\\frac{d}{dx}F_X(x)$\n",
    "\n",
    "    * $f_X(x) \\ge 0$\n",
    "    * $\\int_{-∞}^{+∞}f_X(x)dx = 1$\n",
    "    * $P(x \\le X \\le x+\\Delta x) ≈ f_X(x)\\Delta x$\n",
    "    \n",
    "* $P(x_1 \\le X \\le x_2) = F_X(x_2) - F_X(x_1) = \\int_{x_1}^{x_2}f_X(x)dx$"
   ]
  },
  {
   "cell_type": "code",
   "execution_count": 9,
   "metadata": {},
   "outputs": [],
   "source": [
    "# 连续型的随机变量可以理解为连续的离散点组成，在每个点的积分比为0\n",
    "# 比如有很多情况输出是连续的数值，这样情况一般是使用计算机统计数据，比如蒙特卡洛随机模拟\n",
    "# 对比连续值采用离散型的方法显然也不合适"
   ]
  },
  {
   "cell_type": "code",
   "execution_count": 10,
   "metadata": {},
   "outputs": [],
   "source": [
    "# 随机变量数字特征"
   ]
  },
  {
   "cell_type": "markdown",
   "metadata": {},
   "source": [
    "期望\n",
    "\n",
    "* 数学期望(离散)：$E(X)=\\sum_{k=1}^∞x_kp_k$\n",
    "\n",
    "* 数学期望(连续)：$E(X)=\\int_{-∞}^{+∞}xf_X(x)dx$\n",
    "\n",
    "* 随机变量函数的期望: $Y = g(X)$\n",
    "\n",
    "    * 离散：$E(Y) = E(g(X)) = \\sum_{k=1}^∞g(x_k)p_k$\n",
    "    * 连续：$E(Y) = E(g(X)) = \\int_{-∞}^{+∞}g(x)f_X(x)dx$\n",
    "    \n",
    "* 期望的性质：\n",
    "\n",
    "    * 常数的期望：$E(a) = a$\n",
    "    * 定理：$E(f(X)+g(X)) = E(f(X)) + E(g(x))$\n",
    "    * 期望的期望：$E[E[X]] = E[X]$"
   ]
  },
  {
   "cell_type": "markdown",
   "metadata": {},
   "source": [
    "* 例：如果 $f_X(x) = 1$，$\\forall_x ∈ [0,1]$，其余是0，则有\n",
    "\n",
    "$$E(X) = \\int_{-∞}^{+∞}xf_X(x)dx = \\int_0^1xdx = \\frac{1}{2}$$\n",
    "\n",
    "    说明：这个是一个分段的铰链函数"
   ]
  },
  {
   "cell_type": "code",
   "execution_count": 11,
   "metadata": {},
   "outputs": [],
   "source": [
    "# 数学期望：衡量离散和连续样本点的加权平均，每个样本点的权重不再是等可能的情况\n",
    "# 随机变量函数的期望：套用了分布函数，随机变量满足某种变量关系\n",
    "# 定理：函数和的期望 = 期望的函数和"
   ]
  },
  {
   "cell_type": "markdown",
   "metadata": {},
   "source": [
    "方差\n",
    "\n",
    "* 方差(离散)：$D(X) = E\\left\\{[X-E(X)^2]\\right\\} = \\sum_{k=1}^∞[x_k-E(X)]^2p_k$，用来度量$X$与$E(X)$的偏离程度\n",
    "\n",
    "* 方差(连续)：$D(X) = E\\left\\{[X-E(X)^2]\\right\\} = \\int_{-∞}^{+∞}[x-E(X)]^2f_X(x)dx$\n",
    "\n",
    "* 方差与期望的关系：$D(X) = E(X^2) - [E(X)]^2$\n",
    "\n",
    "$$推导：由\\begin{cases}\n",
    "               \\begin{align*}\n",
    "                    &E(a) = a \\\\\n",
    "                    &E(f(X)+g(X)) = E(f(X)) + E(g(x)) \\\\\n",
    "                    &E(E(X)) = E(X)\n",
    "                 \\end{align*}\n",
    "           \\end{cases}$$\n",
    "           \n",
    "$$\\Downarrow$$\n",
    "\n",
    "$$\\begin{align*}\n",
    "    D(X) &= E\\left\\{[X-E(X)^2]\\right\\} \\\\\n",
    "         &= E\\left\\{[X-E(X)][X-E(X)]\\right\\} \\\\\n",
    "         &= E\\left\\{X^2 - 2XE(X) + [E(X)]^2\\right\\} \\\\\n",
    "         &= E(X^2) - 2[E(X)]^2 + [E(X)]^2 \\\\\n",
    "         &= E(X^2) - [E(X)]^2\n",
    "\\end{align*}$$\n",
    "\n",
    "* * 例：如果 $f_X(x) = 1$，$\\forall_x ∈ [0,1]$，其余是0，则有\n",
    "\n",
    "$$E(X) = \\int_{-∞}^{+∞}xf_X(x)dx = \\int_0^1xdx = \\frac{1}{2}$$\n",
    "\n",
    "$$E(X^2) = \\int_{-∞}^{+∞}x^2f_X(x)dx = \\int_0^1x^2dx = \\frac{1}{3}$$\n",
    "\n",
    "$$D(X) = E(X^2) - [E(X)]^2 = \\frac{1}{3} - \\frac{1}{4} = \\frac{1}{12}$$"
   ]
  },
  {
   "cell_type": "code",
   "execution_count": 12,
   "metadata": {},
   "outputs": [],
   "source": [
    "# 说明：方差描述的样本点与其期望(也就是均值)的偏离程度，从直观的角度也能够理解通过这种方式能够描述样本点的分布\n",
    "# 方差描述的是样本点与均值的偏差的均值，也就是期望\n",
    "# 方差用偏差的平方，而不用绝对差，是因为绝对差不是连续的值，而且不方便计算\n",
    "# 为什么有了方差还要标准差？\n",
    "# 因为方差与标准差的量纲不一致，单位也不一样，自然不方便比较大小，所以使用开方的标准差了"
   ]
  },
  {
   "cell_type": "code",
   "execution_count": 13,
   "metadata": {},
   "outputs": [],
   "source": [
    "# 人工智能中常见分布"
   ]
  },
  {
   "cell_type": "markdown",
   "metadata": {},
   "source": [
    "常见分布\n",
    "\n",
    "离散\n",
    "\n",
    "* (0-1) 分布，$P\\{X = k\\} = p^k(1-p)^{1-k}$，$k = 0,1$\n",
    "\n",
    "    * $E(X) = p$\n",
    "    * $D(X) = p(1-p)$\n",
    "    \n",
    "* 二项分布：设将试验独立重复进行$n$次，每次试验中，事件$A$发生的概率均为$p$，则称这$n$次试验为$n$重贝努里试验。若以$X$表示$n$重贝努里试验事件$A$发生的次数，则称$X$服从参数为$n,p$的二项分布。\n",
    "\n",
    "$$P\\{X=k\\} = C_n^kp^k(1-p)^{n-k},\\hspace{0.1cm}k=0,1,\\dots,n$$"
   ]
  },
  {
   "cell_type": "markdown",
   "metadata": {},
   "source": [
    "推导二项分布的均值和方差：\n",
    "\n",
    "因二项分布是多次0-1分布的推广，而从0-1分布的期望和方差分别为$E(X) = p$和$D(X) = p(1-p)$，因二项分布每次0-1试验都是相互独立的，固有\n",
    "\n",
    "$$E(X) = E(X_1) + E(X_2) + \\dots + E(X_n) = p + p + \\dots + p = np$$\n",
    "\n",
    "而方差有：\n",
    "\n",
    "$$D(X) = D(X_1) + D(X_2) + \\dots + D(X_n) = p(1-p) + p(1-p) + \\dots + p(1-p) = np(1-p)$$"
   ]
  },
  {
   "cell_type": "code",
   "execution_count": 14,
   "metadata": {},
   "outputs": [],
   "source": [
    "# 说明：二项分布是对0-1分布的多次重复试验"
   ]
  },
  {
   "cell_type": "markdown",
   "metadata": {},
   "source": [
    "高斯分布(最美的分布)\n",
    "\n",
    "高斯分布(正太分布)\n",
    "\n",
    "* $f(x \\mid μ,\\sigma^2) = \\frac{1}{\\sigma\\sqrt{2\\pi}}e^{-\\frac{(x-μ)^2}{2\\sigma^2}}$，记做 $\\mathcal{N}(μ,\\sigma^2)$\n",
    "* $E(X) = μ$\n",
    "* $D(X) = \\sigma^2$"
   ]
  },
  {
   "cell_type": "code",
   "execution_count": 15,
   "metadata": {},
   "outputs": [],
   "source": [
    "# 说明：μ决定了曲线的位置，σ^2决定了曲线的形状"
   ]
  },
  {
   "cell_type": "code",
   "execution_count": 16,
   "metadata": {},
   "outputs": [],
   "source": [
    "import numpy as np\n",
    "import pandas as pd\n",
    "import matplotlib.pyplot as plt\n",
    "\n",
    "for u,sigma in zip([0,0,0,-2],np.sqrt([0.2,1.0,5.0,0.5])):\n",
    "    x = np.linspace(-5,5,1000)\n",
    "    y = np.exp(-(x-u)**2/(2*sigma**2))/(sigma*np.sqrt(2*np.pi))\n",
    "    plt.plot(x,y,linewidth=2)"
   ]
  },
  {
   "attachments": {
    "Gaussian%20distribution.png": {
     "image/png": "[encoded data removed]"
    }
   },
   "cell_type": "markdown",
   "metadata": {},
   "source": [
    "![Gaussian%20distribution.png](attachment:Gaussian%20distribution.png)"
   ]
  },
  {
   "cell_type": "markdown",
   "metadata": {},
   "source": [
    "中心极限定理\n",
    "\n",
    "* 设随机变量$X_1,X_2,\\dots,X_n\\dots$独立同分布，且$E(X_k) = μ$，$D(X_k) = \\sigma^2$，则当$n$充分大时，$\\bar{X}$近似服从高斯分布：\n",
    "\n",
    "$$\\bar{X} = \\frac{1}{n}\\sum_{k=1}^nX_k \\sim \\mathcal{N}\\left(μ,\\frac{\\sigma^2}{n}\\right)$$"
   ]
  },
  {
   "cell_type": "code",
   "execution_count": 17,
   "metadata": {},
   "outputs": [],
   "source": [
    "# 说明：每个随机变量都服从高斯分布，并且相互独立，则其均值分布也服从高斯分布\n",
    "# 若每个随机变量对应的观测值服从同一个高斯分布，则这多个随机变量对应的均值也应服从高斯分布"
   ]
  },
  {
   "cell_type": "markdown",
   "metadata": {},
   "source": [
    "多维随机变量\n",
    "\n",
    "* 以二维随机变量为例(离散和连续相互对比)\n",
    "\n",
    "* 离散\n",
    "    * 联合分布率：$P\\{X=x_i,Y=y_i\\} = p_{ij},\\hspace{0.1cm}i,j = 1,2,\\dots$\n",
    "    * 联合分布函数：$F(x,y) = \\sum_{x_i \\le x, y_j \\le y}p_{ij}$\n",
    "    * 边缘分布率：$P\\{X = x_i\\} = \\sum_{j=1}^∞p_{ij},\\hspace{0.1cm}i,j = 1,2,\\dots$\n",
    "    * 条件分布率：$P\\{X = x_i \\mid Y = y_j\\} = \\frac{P\\{X=x_i,Y=y_i\\}}{P\\{Y=y_j\\}}$ 回忆$\\left(P(B \\mid A) = \\frac{P(AB)}{P(A)}\\right)$\n",
    "    \n",
    "* 连续\n",
    "    * 联合概率密度：$f(x,y)$\n",
    "    * 联合分布函数：$F(x,y) = \\int_{-∞}^y\\int_{-∞}^xf(u,v)dudv$\n",
    "    * 边缘概率密度：$f_X(x) = \\int_{-∞}^{+∞}f(x,y)dy$\n",
    "    * 条件概率密度：$f_{X \\mid Y}(x \\mid y) = \\frac{f(x,y)}{f_Y(y)}$\n",
    "    \n",
    "* 协方差：$Cov(X,Y) = E\\{[X-E(X)][Y-E(Y)]\\} = E(XY) - E(X)E(Y)$"
   ]
  },
  {
   "cell_type": "code",
   "execution_count": 18,
   "metadata": {},
   "outputs": [],
   "source": [
    "# 说明：积分近似几何意义：一重积分 - 面积；二重积分 - 体积；三重积分 - 质量、时空等\n",
    "# X=Y时，协方差Cov(X,Y) = 方差D(x)"
   ]
  },
  {
   "cell_type": "markdown",
   "metadata": {},
   "source": [
    "多元高斯分布\n",
    "\n",
    "多元概率密度函数：\n",
    "\n",
    "$$f_X(x_1,\\dots,x_k) = \\frac{1}{\\sqrt{(2\\pi)^k|\\mathbf{Σ}|}}e^{\\left(-\\frac{1}{2}(\\mathbf{x-μ})^TΣ^{-1}(\\mathbf{x-μ})\\right)}$$\n",
    "\n",
    "\n",
    "$$\\begin{align*}\n",
    "    \\mathbf{Σ} &=\\left[\n",
    "                    \\begin{matrix}\n",
    "                        Cov[X_1,X_1] & \\dots & Cov[X_1,X_n] \\\\\n",
    "                        \\vdots & \\ddots & \\vdots \\\\\n",
    "                        Cov[X_n,X_1] & \\dots & Cov[X_n,X_n]\n",
    "                    \\end{matrix}\n",
    "                 \\right] \\\\\n",
    "               &=\\left[\n",
    "                    \\begin{matrix}\n",
    "                        E[X_1^2] - E[X_1]E[X_1] & \\dots & E[X_1X_n] - E[X_1]E[X_n] \\\\\n",
    "                        \\vdots & \\ddots & \\vdots \\\\\n",
    "                        E[X_nX_1] - E[X_n]E[X_1] & \\dots & E[X_n^2] - E[X_n]E[X_n]\n",
    "                    \\end{matrix}\n",
    "                 \\right] \\\\\n",
    "               &=\\left[\n",
    "                    \\begin{matrix}\n",
    "                        E[X_1^2] & \\dots & E[X_nX_1] \\\\\n",
    "                        \\vdots & \\ddots & \\vdots \\\\\n",
    "                        E[X_nX_1] & \\dots & E[X_n^2]\n",
    "                    \\end{matrix}\n",
    "                 \\right] - \n",
    "                 \\left[\n",
    "                    \\begin{matrix}\n",
    "                        E[X_1]E[X_1] & \\dots & E[X_1]E[X_n] \\\\\n",
    "                        \\vdots & \\ddots & \\vdots \\\\\n",
    "                        E[X_n]E[X_1] & \\dots & E[X_n]E[X_n]\n",
    "                    \\end{matrix}\n",
    "                 \\right] \\\\\n",
    "               &= E[XX^T] - E[X]E[X]^T = \\dots = E[(X-E[X])(X-E[X])^T]\n",
    "\\end{align*}$$"
   ]
  },
  {
   "cell_type": "markdown",
   "metadata": {},
   "source": [
    "证明协方差矩阵半正定：\n",
    "\n",
    "已知：\n",
    "\n",
    "$$X = [X_1,X_2,\\dots,X_n]^T$$\n",
    "\n",
    "$$μ = [μ_1,μ_2,\\dots,μ_n]^T$$\n",
    "\n",
    "$$z = [z_1,z_2,\\dots,z_n]^T$$\n",
    "\n",
    "协方差矩阵$Σ$两边分别乘以任意向量$z^T$和$z$，得\n",
    "\n",
    "$$\\begin{align*}\n",
    "z^TΣz &=\n",
    "\\begin{bmatrix}\n",
    "    z_1 & \\dots & z_n\n",
    "\\end{bmatrix}E[(X-μ)(X-μ)^T]\n",
    "\\begin{bmatrix}\n",
    "    z_1 \\\\\n",
    "    \\vdots \\\\\n",
    "    z_n\n",
    "\\end{bmatrix} \\\\\n",
    "      &= \n",
    "\\begin{bmatrix}\n",
    "    z_1 & \\dots & z_n\n",
    "\\end{bmatrix}\n",
    "\\begin{bmatrix}\n",
    "    E[(X_1-μ_1)(X_1-μ_1)] & \\dots & E[(X_1-μ_1)(X_n-μ_n)] \\\\\n",
    "    \\vdots & \\ddots & \\vdots \\\\\n",
    "    E[(X_n-μ_n)(X_1-μ_1)] & \\dots & E[(X_n-μ_n)(X_n-μ_n)]\n",
    "\\end{bmatrix}\n",
    "\\begin{bmatrix}\n",
    "    z_1 \\\\\n",
    "    \\vdots \\\\\n",
    "    z_n\n",
    "\\end{bmatrix} \\\\\n",
    "      &= \n",
    "\\begin{bmatrix}\n",
    "    E[z_1(X_1-μ_1)(X_1-μ_1)] & \\dots & E[z_1(X_1-μ_1)(X_n-μ_n)] \\\\\n",
    "    \\vdots & \\ddots & \\vdots \\\\\n",
    "    E[z_n(X_n-μ_n)(X_1-μ_1)] & \\dots & E[z_n(X_n-μ_n)(X_n-μ_n)]\n",
    "\\end{bmatrix}\n",
    "\\begin{bmatrix}\n",
    "    z_1 \\\\\n",
    "    \\vdots \\\\\n",
    "    z_n\n",
    "\\end{bmatrix} \\\\\n",
    "      &=\n",
    "\\begin{bmatrix}\n",
    "    E[z_1(X_1-μ_1)(X_1-μ_1)z_1] & \\dots & E[z_1(X_1-μ_1)(X_n-μ_n)z_1] \\\\\n",
    "    \\vdots & \\ddots & \\vdots \\\\\n",
    "    E[z_n(X_n-μ_n)(X_1-μ_1)z_n] & \\dots & E[z_n(X_n-μ_n)(X_n-μ_n)z_n]\n",
    "\\end{bmatrix} \\\\\n",
    "      &=\n",
    "\\left[\\sum_{i=1}^n\\sum_{j=1}^nE[z_i(X_i-μ_i)(X_j-μ_j)z_j]\\right] \\\\\n",
    "      &=\n",
    "\\left(\\sum_{i=1}^nE[z_i(X_i-μ_i)]\\right)\\left(\\sum_{j=1}^nE[z_j(X_j-μ_j)]\\right) \\\\\n",
    "      &=\n",
    "\\left(E[\\sum_{i=1}^nz_i(X_i-μ_i)]\\right)\\left(E[\\sum_{j=1}^nz_j(X_j-μ_j)]\\right)\n",
    "\\end{align*}$$\n",
    "\n",
    "因有$ \\sum_{i=1}^nz_i(X_i-μ_i) = \\sum_{j=1}^nz_j(X_j-μ_j)$，并令其为随机变量$Y$，进一步推导得：\n",
    "\n",
    "$z^TΣz = E[Y]^2 \\ge 0$，得正$Σ$半正定"
   ]
  },
  {
   "cell_type": "markdown",
   "metadata": {},
   "source": [
    "证明协方差矩阵不仅是半正定矩阵，且是对称矩阵\n",
    "\n",
    "由对称矩阵的性质$\\mathbf{A}^T = \\mathbf{A}$，而协方差矩阵为$\\mathbf{Σ} = E[(X-E[X])(X-E[X])^T]$，对$E[(X-E[X])(X-E[X])^T]$进行转置，仍然是$E[(X-E[X])(X-E[X])^T]$，故而证得协方差矩阵为$\\mathbf{Σ}$是对称矩阵"
   ]
  }
 ],
 "metadata": {
  "kernelspec": {
   "display_name": "Python 3",
   "language": "python",
   "name": "python3"
  },
  "language_info": {
   "codemirror_mode": {
    "name": "ipython",
    "version": 3
   },
   "file_extension": ".py",
   "mimetype": "text/x-python",
   "name": "python",
   "nbconvert_exporter": "python",
   "pygments_lexer": "ipython3",
   "version": "3.6.4"
  }
 },
 "nbformat": 4,
 "nbformat_minor": 2
}
