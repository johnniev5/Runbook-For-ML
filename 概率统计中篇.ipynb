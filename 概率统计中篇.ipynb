{
 "cells": [
  {
   "cell_type": "code",
   "execution_count": 1,
   "metadata": {},
   "outputs": [],
   "source": [
    "# 数理统计"
   ]
  },
  {
   "cell_type": "markdown",
   "metadata": {},
   "source": [
    "数理统计基本知识\n",
    "\n",
    "* 概率论：随机变量，分布已知，如满足二项分布、高斯分布等\n",
    "* 数理统计：随机变量，分布未知，通过观察值，对分布推断 重复试验的样本数据，但是不知道其整体满足的分布情况 用观测数据取推断其分布\n",
    "* 一个总体对应于一个随机变量$X$，$X_1,\\dots,X_n$随机样本，与$X$独立同分布(分布函数$F$)，$x_1,\\dots,x_n$样本值(观察值)，注意通常情况$y_1,\\dots,y_n ≠ x_1,\\dots,x_n$\n",
    "* 理解：总体 $\\to$ 样本 $\\to$ 样本观察值 $\\to$ 理论分布\n",
    "* 统计量：例如样本平均值$\\bar{X} = \\frac{1}{n}\\sum_{i=1}^nX_i$"
   ]
  },
  {
   "cell_type": "markdown",
   "metadata": {},
   "source": [
    "最大似然估计\n",
    "\n",
    "* 总体$X$的分布函数已知，但是一个或多个参数未知，我们借助样本来估计总体未知参数值\n",
    "\n",
    "* 最大似然主要思想：对于$P(A \\mid θ)$，在$θ$的可能取值范围内尽量选取使得$P(A \\mid θ)$最大的$\\widehat{θ}$"
   ]
  },
  {
   "cell_type": "code",
   "execution_count": 2,
   "metadata": {},
   "outputs": [],
   "source": [
    "# 说明：使得取得的这组观察值最大可能的θ值，也就是说在这个最大的θ下的这组观测值被取到了\n",
    "# 很多情况，我们只有数据，或者通过做试验来获取数据，我们要通过研究这些数据，看其分别满足什么样的分布，以此来求得分布的参数\n",
    "# 引入随机变量，我们就能够研究数据满足某些条件的函数关系，有了函数，再进一步预测其它数据的结果也就可行了\n",
    "# 因为观测数据是来自总体样本，通过观测数据获得的理论分布，同样适用于总体分布\n",
    "# 均值：用来衡量数据的集中程度，我们把它叫做偏差，有算数平均数、几何平均数、加权平均数等\n",
    "# 参考：https://baike.baidu.com/item/平均数?fromtitle=均值&fromid=5922988\n",
    "# 一般有极差：最大值与最小值之差 残差：真实值与估计值 方差：真实值与均值差的平方和的均值 标准差：方差的平方根\n",
    "# 使用何种方法去估计，感觉上有其合理性"
   ]
  },
  {
   "cell_type": "markdown",
   "metadata": {},
   "source": [
    "最大似然估计(离散)\n",
    "\n",
    "* 总体$X$，$X_1,\\dots,X_n$来自$X$样本，独立同分布，相应的观测值为$x_1,\\dots,x_N$，参数取值未知。利用已知观测值$x_1,\\dots,x_n$(常数)对$θ$进行点估计\n",
    "\n",
    "* 离散情况：实际中假定一$θ$，利用离散联合分布率定义，$X_1,\\dots,X_n$取到观察值为$x_1,\\dots,x_n$的概率为$L(θ)=\\prod_{i=1}^np(x_i;θ)$。这一概率随着$θ$变化，称为样本似然函数\n",
    "\n",
    "* 由于已知确认取到观测值，可认为取到这一样本的概率$L(θ)$比较大。显然，肯定不会去找让那些不能使样本$x_1,\\dots,x_N$出现的$θ$作为估计值，如果$\\Theta$里面有个能让$L(θ)$取到最大的$\\widehat{θ}$，自然认为$\\widehat{θ}$就是$θ$的估计值"
   ]
  },
  {
   "cell_type": "code",
   "execution_count": null,
   "metadata": {},
   "outputs": [],
   "source": [
    "# 说明：\n",
    "# 似然函数是取得所有观测值的概率，自然是一个常数，取到每个样本点的概率积\n",
    "# 要求满足取到这组观测值的最大的θ\n",
    "# 似然函数在离散数据时是联合分布率，在连续时联合概率密度并不是概率密度"
   ]
  },
  {
   "cell_type": "code",
   "execution_count": 3,
   "metadata": {},
   "outputs": [],
   "source": [
    "# 独立同分布的意思：因采集样本都是来自X，固然满足同分布，而独立，表示各个随机变量之间没有关联，互不影响\n",
    "# 再比如一个班级的男女身高满足正太分布，自然是某个身高下的有多个同学，随机采集一部分样本，构成这个观测值得样本值自然也同样满足正太分布\n",
    "# 通过这个观测值取求得整体的参数值，这就是似然估计的方法\n",
    "# 如果说可以取多组观测值求得相应的θ，自然存在一个最大的θ，也自然这个最大的θ才是最合适的"
   ]
  },
  {
   "cell_type": "markdown",
   "metadata": {},
   "source": [
    "最大似然估计(连续)\n",
    "\n",
    "* 连续情况下联合概率密度为$\\prod_{i=1}^nf(x_i;θ)$，由于连续变量在某一点概率为0，考虑随机变量$X$，$X_1,\\dots,X_N$落在点$(x_1,x_2,\\dots,x_n)$周围一个很小区域内(一维下就是求面积)的概率近似为$\\prod_{i=1}^nf(x_i;θ)dx_i$，因此类似我们选取$θ$让$\\prod_{i=1}^nf(x_i;θ)dx_i$($dx_i$是宽度)最大，但是由于$θ$和$dx_i$没关系，因此只需要$θ$让似然函数$\\prod_{i=1}^nf(x_i;θ) = L(θ)$最大即可\n",
    "\n",
    "* 注意：由于$(x_1,x_2,\\dots,x_n)$已知，$L(θ)$只和$θ$有关，是个标准的函数，既不是概率，也不是条件概率密度"
   ]
  },
  {
   "cell_type": "code",
   "execution_count": null,
   "metadata": {},
   "outputs": [],
   "source": [
    "# 连续数据的联合概率密度，其实就是离散数据的一种近似\n",
    "# 注意连续数据的似然函数不是概率，也不是条件概率密度，是一个标准的函数\n",
    "# ∏ni=1f(xi;θ)=L(θ)"
   ]
  },
  {
   "cell_type": "code",
   "execution_count": 4,
   "metadata": {},
   "outputs": [],
   "source": [
    "# 连续的点更是一个个小的区间"
   ]
  },
  {
   "cell_type": "markdown",
   "metadata": {},
   "source": [
    "最大似然估计举例\n",
    "\n",
    "* 设$X \\sim \\mathcal{N}(μ,\\sigma^2)$，但$μ,\\sigma^2$未知。$x_1,\\dots,x_n$来自$X$的一个样本值，求$μ,\\sigma^2$最大似然估计\n",
    "\n",
    "* 已知$f(x;μ,\\sigma^2) = \\frac{1}{\\sqrt{2\\pi}\\sigma}exp\\left[-\\frac{1}{2\\sigma^2}(x-μ)^2\\right]$，似然函数\n",
    "\n",
    "$$L(μ,\\sigma^2) = \\prod_{i=1}^n\\frac{1}{\\sqrt{2\\pi}\\sigma}exp\\left[-\\frac{1}{2\\sigma^2}(x_i-μ)^2\\right]$$\n",
    "\n",
    "* 联立求解$\\frac{\\partial lnL}{\\partial μ}$ = 0，和$\\frac{\\partial lnL}{\\partial \\sigma^2}$ = 0，可得\n",
    "\n",
    "$$\\widehat{μ} = \\frac{1}{n}\\sum_{i=1}^nx_i = \\bar{x}$$\n",
    "\n",
    "$$\\widehat{\\sigma^2} = \\frac{1}{n}\\sum_{i=1}^n(x_i-\\bar{x})^2$$"
   ]
  },
  {
   "cell_type": "markdown",
   "metadata": {},
   "source": [
    "推导：\n",
    "\n",
    "1、对似然函数两边取对数，得：\n",
    "\n",
    "$$\\begin{align*}\n",
    "\\ln L(μ,\\sigma^2) &= \\ln \\prod_{i=1}^n\\frac{1}{\\sqrt{2\\pi}\\sigma}exp\\left[-\\frac{1}{2\\sigma^2}(x_i-μ)^2\\right] \\\\\n",
    "&= \\sum_{i=1}^n\\ln \\frac{1}{\\sqrt{2\\pi}\\sigma}exp\\left[-\\frac{1}{2\\sigma^2}(x_i-μ)^2\\right] \\\\\n",
    "&= \\frac{1}{\\sqrt{2\\pi}}\\sum_{i=1}^n\\left[\\ln e^{-\\frac{1}{2\\sigma^2}(x_i-μ)^2} - \\ln \\sigma\\right] \\\\\n",
    "&= -\\frac{1}{\\sqrt{2\\pi}}\\left[\\sum_{i=1}^n\\frac{(x_i-μ)^2}{2\\sigma^2} + n\\ln \\sigma\\right] \\\\\n",
    "\\end{align*}$$\n",
    "\n",
    "2、对$μ$和$\\sigma^2$分别求偏导，有：\n",
    "\n",
    "$$\\begin{align*}\n",
    "\\frac{\\partial lnL}{\\partial μ} &= -\\frac{1}{\\sqrt{2\\pi}}\\sum_{i=1}^n\\frac{2(x_i-μ)(-1)}{2\\sigma^2} \\\\\n",
    "&= \\frac{1}{\\sqrt{2\\pi}}\\sum_{i=1}^n\\frac{x_i-μ}{\\sigma^2} \\\\\n",
    "&= 0\n",
    "\\end{align*}$$\n",
    "\n",
    "$$\\Downarrow$$\n",
    "\n",
    "$$\\sum_{i=1}^nx_i-μ = 0 \\Rightarrow \\widehat{μ} = \\frac{1}{n}\\sum_{i=1}^nx_i = \\bar{x}$$\n",
    "\n",
    "$$和$$\n",
    "\n",
    "$$\\begin{align*}\n",
    "\\frac{\\partial lnL}{\\partial \\sigma^2} &= -\\frac{1}{\\sqrt{2\\pi}}\\sum_{i=1}^n\\frac{(x_i-μ)^2}{-2(\\sigma^2)^2} - \\frac{n}{2\\sigma^2} \\\\\n",
    "&= 0\n",
    "\\end{align*}$$\n",
    "\n",
    "$$\\Downarrow$$\n",
    "\n",
    "$$\\frac{\\sum_{i=1}^n(x_i-μ)^2}{2(\\sigma^2)^2} = \\frac{n}{2\\sigma^2} \\Rightarrow \\widehat{\\sigma^2} = \\frac{1}{n}\\sum_{i=1}^n(x_i-\\bar{x})^2$$"
   ]
  },
  {
   "cell_type": "markdown",
   "metadata": {},
   "source": [
    "最大似然估计 \n",
    "\n",
    "* 多元高斯似然函数\n",
    "\n",
    "$$\\ln p(\\mathbf{X \\mid μ,Σ}) = -\\frac{ND}{2}\\ln(2\\pi) - \\frac{N}{2}\\ln|\\mathbf{Σ}| - \\frac{1}{2}\\sum_{n=1}^N(\\mathbf{(x_n-μ)^\\mathsf{T}\\mathbf{Σ}^{-1}(\\mathbf{x_n-μ}})$$\n",
    "\n",
    "* 仿照一元的例子，可得\n",
    "\n",
    "$$\\mathbf{μ}_{ML} = \\frac{1}{N}\\sum_{n=1}^N\\mathbf{x_n}$$\n",
    "$$\\mathbf{Σ}_{ML} = \\frac{1}{N}\\sum_{n=1}^N(\\mathbf{x_n-μ_{ML}})(\\mathbf{x_n-μ_{ML}})^\\mathsf{T}$$"
   ]
  },
  {
   "cell_type": "code",
   "execution_count": 5,
   "metadata": {},
   "outputs": [],
   "source": [
    "# 比例一个班级的男女生身高都服从各自的高斯分布，就是一个二元高斯分布"
   ]
  },
  {
   "cell_type": "markdown",
   "metadata": {},
   "source": [
    "0-1分布\n",
    "\n",
    "离散\n",
    "\n",
    "* (0-1)分布\n",
    "    * $p(x=1 \\mid μ) = μ$\n",
    "    * $p(x=0 \\mid μ) = 1-μ$\n",
    "    * Bern$(x \\mid μ) = μ^x(1-μ)^{1-x}$\n",
    "    * $E(x) = μ$\n",
    "    * $var[x] = μ(1-μ)$\n",
    "    \n",
    "    推导：\n",
    "    \n",
    "    $$E(x) = \\sum_{k=0,1}x_kμ_k = 1 \\times μ + 0 \\times (1-μ) = μ$$\n",
    "    \n",
    "    $$D(x) = \\sum_{k=0,1}[x_k-E(x)]^2μ_k = (1-μ)^2 \\times μ + (0-μ)^2 \\times (1-μ) = μ(1-μ)$$\n",
    "\n",
    "\n",
    "* 观测数据集$\\mathcal{D} = \\{x_1,\\dots,x_N\\}$，每次独立从$p(x \\mid μ)$中抽取\n",
    "\n",
    "* 似然函数\n",
    "\n",
    "$$p(\\mathcal{D} \\mid μ) = \\prod_{n=1}^Np(x_n \\mid μ) = \\prod_{n=1}^Nμ^{x_n}(1-μ)^{1-x_n}$$"
   ]
  },
  {
   "cell_type": "code",
   "execution_count": 6,
   "metadata": {},
   "outputs": [],
   "source": [
    "# 显然，0-1分布就两类，一对数据样本中，要么属于0，要么属于1，属于离散型，多次重复0-1试验，也就是符合0-1分布，可用于二分类问题\n",
    "# 而正太分布是连续型的，观察数据是落在一区间内的样本，多元高斯分布适用于多分类问题"
   ]
  },
  {
   "cell_type": "markdown",
   "metadata": {},
   "source": [
    "最大似然\n",
    "\n",
    "* 对数似然函数\n",
    "\n",
    "$$\\ln p(\\mathcal{D} \\mid μ) = \\sum_{n=1}^N \\ln p(x_n \\mid μ) = \\sum_{n=1}^N\\bigr\\{x_n \\ln μ + (1-x_n) \\ln (1-μ)\\bigr\\}$$\n",
    "\n",
    "* 求导，可得\n",
    "\n",
    "$$μ_{ML} = \\frac{1}{N}\\sum_{n=1}^Nx_n = \\frac{m}{N}$$"
   ]
  },
  {
   "cell_type": "code",
   "execution_count": 7,
   "metadata": {},
   "outputs": [],
   "source": [
    "# 对于多重0-1分布，我们通过最大似然的方法，得到样本的概率，类似与频率的解释"
   ]
  },
  {
   "cell_type": "code",
   "execution_count": 8,
   "metadata": {},
   "outputs": [],
   "source": [
    "# 线性回归与逻辑回归"
   ]
  },
  {
   "cell_type": "markdown",
   "metadata": {},
   "source": [
    "再看线性回归\n",
    "\n",
    "* 使用$N$个数据点作为训练集，我们希望得到这个一个模型：给定一个新的输入$\\widehat{x}$，预测它对应的输出$\\widehat{y}$\n",
    "\n",
    "* 模型\n",
    "\n",
    "$$y^{(i)} = \\mathbf{θ^\\mathsf{T}}\\mathbf{x}^{(i)} + \\epsilon^{(i)}$$\n",
    "\n",
    "* 假设$\\epsilon^{(i)}$是i.i.d高斯，$\\epsilon^{(i)} \\sim \\mathcal{N}(0,\\sigma^2)$，则有$\\epsilon^{(i)} \\sim \\mathcal{N}(\\mathbf{θ^\\mathsf{T}}\\mathbf{x}^{(i)},\\sigma^2)$，即\n",
    "\n",
    "$$f(y^{(i)} \\mid \\mathbf{x}^{(i)},\\mathbf{θ}) = \\frac{1}{\\sigma\\sqrt{2\\pi}}e^{-\\tfrac{(y^{(i)} - \\mathbf{θ^\\mathsf{T}}\\mathbf{x}^{(i)})^2}{2\\sigma^2}}$$\n",
    "\n",
    "* 似然函数\n",
    "\n",
    "$$L(θ) = \\prod_{i=1}^Nf(y^{(i)} \\mid \\mathbf{x}^{(i)},\\mathbf{θ}) = \\prod_{i=1}^N\\frac{1}{\\sigma\\sqrt{2\\pi}}e^{-\\tfrac{(y^{(i)} - \\mathbf{θ^\\mathsf{T}}\\mathbf{x}^{(i)})^2}{2\\sigma^2}}$$\n",
    "\n",
    "* 对数似然函数\n",
    "\n",
    "$$\\begin{align*}\n",
    "l(θ) &= \\ln L(θ) = \\sum_{i=1}^N \\ln \\frac{1}{\\sigma\\sqrt{2\\pi}}e^{-\\tfrac{(y^{(i)} - \\mathbf{θ^\\mathsf{T}}\\mathbf{x}^{(i)})^2}{2\\sigma^2}} \\\\\n",
    "&= N \\ln \\frac{1}{\\sigma\\sqrt{2\\pi}} - \\frac{1}{2\\sigma^2}\\sum_{i=1}^N\\left(y^{(i)} - \\mathbf{θ^\\mathsf{T}}\\mathbf{x}^{(i)}\\right)^2\n",
    "\\end{align*}$$\n",
    "\n",
    "* 与之前定义的损失函数一样，最小二乘等价于最大似然估计"
   ]
  },
  {
   "cell_type": "code",
   "execution_count": null,
   "metadata": {},
   "outputs": [],
   "source": [
    "# 说明：\n",
    "# 误差项ϵ服从标准高斯，则真实数据也符合高斯分布\n",
    "# 最大化似然函数，相当于最小化损失函数"
   ]
  },
  {
   "cell_type": "code",
   "execution_count": 9,
   "metadata": {},
   "outputs": [],
   "source": [
    "# 说明：最大化l(θ)，自然是最小化∑i=1N(y^(i)−θ^𝖳x^(i))\n",
    "# 等价于最小均方误差，是样本实际值与预测值之间的误差"
   ]
  },
  {
   "cell_type": "markdown",
   "metadata": {},
   "source": [
    "逻辑回归\n",
    "\n",
    "分类问题\n",
    "\n",
    "* $y = \\mathbf{w}^T\\mathbf{x} + b$\n",
    "\n",
    "* 非线性映射1\n",
    "\n",
    "$$z = \n",
    "\\begin{cases}\n",
    "    0 & y < 0 \\\\\n",
    "    0.5 & y = 0 \\\\\n",
    "    1 & y>0\n",
    "\\end{cases}$$\n",
    "\n",
    "* 非线性映射2\n",
    "\n",
    "$$z = \\frac{1}{1+e^{-y}}$$\n",
    "\n",
    "* 假定$h(\\mathbf{x}) = g(\\mathbf{θ}^T\\mathbf{x}) = \\frac{1}{1+e^{-\\mathbf{θ}^T\\mathbf{x}}}$\n",
    "\n",
    "* 假定\n",
    "\n",
    "$$P(y=1 \\mid \\mathbf{x,θ}) = h(\\mathbf{x})$$\n",
    "$$P(y=0 \\mid \\mathbf{x,θ}) = 1 - h(\\mathbf{x})$$\n",
    "\n",
    "* 于是有：\n",
    "\n",
    "$$P(y \\mid \\mathbf{x,θ}) = (h(\\mathbf{x}))^y(1 - h(\\mathbf{x}))^{1-y}$$\n",
    "\n",
    "* 似然函数：\n",
    "\n",
    "$$L(θ) = \\prod_{i=1}^N\\bigr(h\\bigr(\\mathbf{x^{(i)}}\\bigr)\\bigr)^{y^{(i)}}\\bigr(1 - h\\bigr(\\mathbf{x^{(i)}}\\bigr)\\bigr)^{1-y^{(i)}}$$\n",
    "\n",
    "* 对数似然函数\n",
    "\n",
    "$$\\begin{align*}\n",
    "l(θ) &= \\log L(θ) \\\\\n",
    "&= \\sum_{i=1}^Ny^{(i)} \\log h\\bigr(\\mathbf{x^{(i)}}\\bigr) + \\bigr(1 - y^{(i)}\\bigr) \\log \\bigr(1 - h\\bigr(\\mathbf{x^{(i)}}\\bigr)\\bigr)\n",
    "\\end{align*}$$\n",
    "\n",
    "* 等价：凸函数和交叉熵"
   ]
  },
  {
   "cell_type": "code",
   "execution_count": 10,
   "metadata": {},
   "outputs": [],
   "source": [
    "# 说明最大化l(θ)，自然是最小化∑i=1N-y(i)logh(x(i))-(1−y(i))log((1−h(x(i))就是逻辑回归的损失函数\n",
    "# 存在全局最优解"
   ]
  },
  {
   "cell_type": "markdown",
   "metadata": {},
   "source": [
    "证明：逻辑回归的损失函数是凸函数，思路证明其二阶导Hessian半正定\n",
    "\n",
    "再利用凸函数的性质，多个凸函数的累加和仍然是凸函数，所以只要证明$- \\log h(\\mathbf{x})$和$- \\log \\bigr(1 - h(\\mathbf{x})\\bigr)$是凸函数即可\n",
    "\n",
    "已知$h(\\mathbf{x}) = \\frac{1}{1+e^{-\\mathbf{θ^Tx}}}$\n",
    "\n",
    "已知$hθ(x)(1−hθ(x))$是一常数\n",
    "\n",
    "先证明$- \\log h(\\mathbf{x})$是凸函数，由对数性质，转换为 $\\log(1 + e^{-θ^Tx})$\n",
    "\n",
    "对$θ$求导，得：\n",
    "\n",
    "$$\\begin{align*}\n",
    "    \\nabla_θ\\left[\\log(1 + e^{-θ^Tx})\\right] &= \\bigr(\\frac{-e^{-θ^Tx}}{1 + e^{-θ^Tx}}\\bigr)x \\\\\n",
    "    &= \\bigr(\\frac{1}{1 + e^{-θ^Tx}} -1 \\bigr)x \\\\\n",
    "    &= \\bigr(h(x) -1\\bigr)x\n",
    "  \\end{align*}$$\n",
    "  \n",
    "再对$θ$求一次导，得\n",
    "\n",
    "$$\\nabla_θ^2 = h_θ(\\mathbf{x})[1-h_θ(\\mathbf{x})]\\mathbf{xx^T}$$\n",
    "\n",
    "利用Hessian矩阵的定义，在矩阵两边分别乘以$\\mathbf{z^T}$和$\\mathbf{z}$，得\n",
    "\n",
    "$$\\mathbf{z^T}\\left[h_θ(\\mathbf{x})(1-h_θ(\\mathbf{x}))\\mathbf{xx^T}\\right]\\mathbf{z} = h_θ(\\mathbf{x})(1-h_θ(\\mathbf{x}))(\\mathbf{x^Tz})^2 \\ge 0$$\n",
    "\n",
    "继而，得正$- \\log h(\\mathbf{x})$是凸函数，采用同样思路证明$- \\log \\bigr(1 - h(\\mathbf{x})\\bigr)$是凸函数\n",
    "\n",
    "最终证明逻辑回归的损失函数是凸函数"
   ]
  },
  {
   "cell_type": "code",
   "execution_count": 11,
   "metadata": {},
   "outputs": [],
   "source": [
    "# 贝叶斯的观点\n",
    "# 由于先验的信息，后验的分布也会发生变化，不再是原来那个分布了\n",
    "# 最大似然的点估计到后验分布"
   ]
  },
  {
   "cell_type": "markdown",
   "metadata": {},
   "source": [
    "再看贝叶斯公式\n",
    "\n",
    "* 贝叶斯\n",
    "\n",
    "$$p(θ \\mid \\mathcal{D}) = \\frac{p(\\mathcal{D} \\mid θ)p(θ)}{p(\\mathcal{D})}$$\n",
    "\n",
    "* 上式中\n",
    "\n",
    "    * $p(\\mathcal{D} \\mid θ)$ 似然函数\n",
    "    * $p(θ)$ 先验分布\n",
    "    * $p(θ \\mid \\mathcal{D})$ 后验分布\n",
    "    * 后验$\\propto$似然$\\times$先验\n",
    "    \n",
    "* 共轭先验"
   ]
  },
  {
   "cell_type": "code",
   "execution_count": null,
   "metadata": {},
   "outputs": [],
   "source": [
    "# 先验概率在似然函数的作用下发生了变化，也就是我取到这组观测数据，存在这么一个θ使得后验概率最大"
   ]
  },
  {
   "cell_type": "code",
   "execution_count": 12,
   "metadata": {},
   "outputs": [],
   "source": [
    "# 说明：从直观上去理解，要求得后验概率，必然是在已知参数的情况下，也就是已知先验，并可知这个参数是使得取出样本最答可能的参数\n",
    "# 共轭：一对相匹配的量成对出现\n",
    "# 共轭分布：在贝叶斯统计中，如果先验分布和后验分布属于同类，则称先验分布和后验分布是共轭分布\n",
    "# 共轭先验：先验分布在似然函数的作用下，使得先验分布和后验分布独立同分布，我们说先验分布是似然函数是共轭先验\n",
    "# 一般有的共轭先验分布有：Bernoulli 分布的共轭分布是Beta，Multinomial 的共轭是 Dirichlet\n",
    "# 共轭先验的作用：能够简化模型计算量，同时能够观察出先验分布在似然函数的作用下得到后验分布的\n",
    "# 参考：https://zh.wikipedia.org/wiki/共轭先验"
   ]
  },
  {
   "cell_type": "markdown",
   "metadata": {},
   "source": [
    "二项分布\n",
    "\n",
    "* 二项分布\n",
    "\n",
    "$$Bin(m\\mid N,μ) =\n",
    "\\begin{pmatrix}\n",
    "    N \\\\\n",
    "    m\n",
    "\\end{pmatrix}μ^m(1-μ)^{N-m}$$\n",
    "\n",
    "* 均值：$\\mathbb{E}[m] = Nμ$\n",
    "* 方差：$var[m] = Nμ(1-μ)$"
   ]
  },
  {
   "cell_type": "markdown",
   "metadata": {},
   "source": [
    "Beta分布\n",
    "\n",
    "* 先验分布选择为Beta分布，概率密度\n",
    "\n",
    "$$\\begin{align*}\n",
    "Beta(μ|α,β) &= \\frac{μ^{α-1}(1-μ)^{β-1}}{\\int_0^1μ^{α-1}(1-μ)^{β-1}du} = \\frac{\\Gamma{(α+β)}}{\\Gamma{(α)}\\Gamma{(β)}}μ^{α-1}(1-μ)^{β-1} \\\\\n",
    "&= \\frac{1}{B(α,β)}μ^{α-1}(1-μ)^{β-1}\n",
    "\\end{align*}$$\n",
    "\n",
    "* 均值：$\\mathbb{E}[μ] = \\frac{α}{α+β}$\n",
    "* 方差：$var[μ] = \\frac{αβ}{(α+β)^2(α+β+1)}$\n",
    "\n",
    "* 后验分布，$N$次试验，$m$次正面朝上，$l$次反面朝上，$N = m + l$\n",
    "\n",
    "$$p(μ|m,l,α,β) \\propto Likelihood \\times Beta(μ|α,β)$$\n",
    "\n",
    "$$p(μ|m,l,α,β) \\propto μ^{m + α -1}(1-μ)^{l + β -1}$$\n",
    "\n",
    "$$\\begin{align*}\n",
    "p(μ|m,l,α,β) &= \\frac{\\Gamma(m + α + l + β)}{\\Gamma(m + α)\\Gamma(l + β)}μ^{m + α -1}(1-μ)^{l + β -1} \\\\\n",
    "&= Beta(μ|m + α, l + β)\n",
    "\\end{align*}$$\n",
    "\n",
    "* 均值：$\\mathbb{E}[μ|m,l,α,β] = \\frac{m + α}{m + α + l + β}$"
   ]
  },
  {
   "cell_type": "code",
   "execution_count": null,
   "metadata": {},
   "outputs": [],
   "source": [
    "# 说明：B(α,β)是beta函数\n",
    "# beta函数与gamma函数之间的关系：B(α,β)=Γ(α)Γ(β)/Γ(α+β)\n",
    "# Beta(μ|α,β)：beta分布\n",
    "# 似然函数是二项分布μm(1−μ)N−m\n",
    "# beta分布描述的概率的概率分布，能够反应非等可能事件的概率情况，一般生活中很多事件可能是非等可能的\n",
    "# beta分布中的α和β参数描述了这种等可能性，如果两值相等，值的大小反应了哪个发生的可能性更大\n",
    "# 描述的是前后两事件之间的关系"
   ]
  },
  {
   "cell_type": "code",
   "execution_count": 13,
   "metadata": {},
   "outputs": [],
   "source": [
    "# 说明：beta分布从某种程度上说明了某件事件发生的概率的描述，比如说我们抛硬币，\n",
    "# 如果说硬币是均匀的，也就是对应了等可能事件，概率是相同的，而大部分情况，每个\n",
    "# 事件发生的概率是不相同的，固然beta分布可以描述这种事件发生的可能性，也就是\n",
    "# 概率，而二项分布中，每个每次试验产生的样本点的概率就是用beta分布来表示，再对\n",
    "# 概率的所有情况进行一个积分，概率范围从[0,1]，也就是有了要求满足某种情况的概率，\n",
    "# 比如说我们要求x=1正面朝上的概率\n",
    "# 再比如，我们的硬币是均匀的，也就是α=β=1，就有了均值概率"
   ]
  },
  {
   "cell_type": "code",
   "execution_count": 14,
   "metadata": {},
   "outputs": [],
   "source": [
    "# 说明：beta分布可以看做是衡量概率的概率分布，也就是其可能性\n",
    "# beta分布和二项分布是共轭先验，其后验分布也服从beta分布\n",
    "# 在知道先验信息的情况，这边的先验信息是指beta分布，其后验分布也能够通过贝叶斯公式计算出\n",
    "# 为什么要使用这个beta分布？\n",
    "# 比如说生活中如果根据频率派的观点来计算一个人击球的击中率为击中次数/总次数，而有种情况是其\n",
    "# 只打了一次，并且击中，按照频率统计，击中率即为100%，显然这个不合理的，当然可以说多打几次，\n",
    "# 以频率观点统计其击中率也是可行的。然而根据贝叶斯观点，我们之前击球产生的信息，都能够对后\n",
    "# 面击中的概率评估提供先验信息，而这个beta分布就是假设是我们先验的信息，拿这边的击球率来说，\n",
    "# 一般根据往常经验，这个值应该在0.27~0.35之间，根据前一轮的情况，统计这一轮的击球率，显得\n",
    "# 更加合理，从击球的结果，也可以看出贝叶斯的计算出的击球率与频率计算出的击球率还是有些误差的\n",
    "# 参考：https://www.zhihu.com/question/30269898\n",
    "# https://en.wikipedia.org/wiki/Beta_distribution\n",
    "# 简述：知道前一轮的集中率，可以用来统计这一轮的击球率\n",
    "# beta分布的α和β参数是使得模型满足先验信息的，要知道概率的分布区间\n",
    "# 参数α和β也体现了一种均匀性，比如说硬币的均匀性，α=β=1表示硬币均匀的𝔼[μ]=1/2\n",
    "# 如果是α=100，β=200，𝔼[μ]=100/300=1/3"
   ]
  },
  {
   "cell_type": "code",
   "execution_count": 15,
   "metadata": {},
   "outputs": [],
   "source": [
    "# gamma函数：可以看做阶乘在实数域上扩展，如2.5!\n",
    "# gamma函数的性质：\n",
    "# https://baike.baidu.com/item/伽玛函数/3540177?fr=aladdin"
   ]
  },
  {
   "cell_type": "markdown",
   "metadata": {},
   "source": [
    "贝叶斯估计举例\n",
    "\n",
    "* 抛100次硬币，都正面朝上，抛101次正面的概率？\n",
    "\n",
    "* 最大似然？\n",
    "\n",
    "* 引入先验分布，Beta分布\n",
    "\n",
    "* 预测\n",
    "\n",
    "$$\\begin{align*}\n",
    "p(x=1|\\mathcal{D}) &= \\int_0^1p(x=1|μ)p(μ|\\mathcal{D})du \\\\\n",
    "&= \\int_0^1μp(μ|\\mathcal{D})du = \\mathbb{E}[μ|\\mathcal{D}] \\\\\n",
    "&= \\frac{m + α}{m + α + l + β} = \\frac{100 + α}{100 + α + β}\n",
    "\\end{align*}$$\n",
    "\n",
    "* $α = β = 1$\n",
    "* $α = β = 100$"
   ]
  },
  {
   "cell_type": "code",
   "execution_count": null,
   "metadata": {},
   "outputs": [],
   "source": [
    "# 说明：\n",
    "# 用最大似然，求得100次正面的概率为μ=1，而似然公式μ^x(1-μ)^(1-x)，而101次为正面的概率为1^1(1-1)^(1-1)=1，这就存在问题了，对于这种情况我们使用\n",
    "# beta分布后验概率来计算其概率\n",
    "# 其解释为在知道了前100次都为正面的情况下，能够为101次计算正面概率提供信息\n",
    "# 当α=β=1时，我们可认为硬币是均匀的，则有概率100+1/100+1+1=101/102接近于1，而α=β=100时，100+100/100+200=2/3很明显概率小了很多\n",
    "# beta分布是一个概率的概率分布，自然是连续值，所以求期望使用积分求解"
   ]
  },
  {
   "cell_type": "code",
   "execution_count": 16,
   "metadata": {},
   "outputs": [],
   "source": [
    "# 0-1分布中，使用最大似然求出的μ就是为1的概率，等于正面的概率数/总数，那抛100次正面朝上的概率为1\n",
    "# 而第101，若正面朝上其概率根据公式得出其概率还是为1，但其实101次的μ是已经发生了变化，因为知道其\n",
    "# 100次情况，自然101是不一样的 这种情况就是最大似然的过拟合\n",
    "# 上述公式说明：为什么要使用边缘概率密度，因需要统计落在[0,1]区间内的概率情况，根据边缘概率公式，\n",
    "# 涉及到联合概率，而联合概率可以根据条件概率密度公式求得，自然就有了上述公式推导\n",
    "# 解释：\n",
    "# p(x=1|D)：是条件概率密度，预测样本集中x=1的概率 是后验概率\n",
    "# p(x=1|μ)：x=1的概率为μ 是先验概率\n",
    "# p(μ|D)：是似然函数 通过前面已知的数据可以计算出模型参数\n",
    "# p(x=1|μ)p(μ|D)：联合概率密度，其实是前面已知数据的概率提供的信息\n",
    "# 连续值的期望是积分形式，而∫10μp(μ|D)du恰好就是给定D对μ求期望，而μ的概率为[0-1]所以对μ积分也是0,1\n",
    "# 机器学习中大部分情况还是使用的最大似然估计，当最大似然存在问题时，可以使用贝叶斯的最大后验估计MAP"
   ]
  },
  {
   "attachments": {
    "Beta%20distribution.png": {
     "image/png": "[encoded data removed]"
    }
   },
   "cell_type": "markdown",
   "metadata": {},
   "source": [
    "![Beta%20distribution.png](attachment:Beta%20distribution.png)"
   ]
  },
  {
   "cell_type": "code",
   "execution_count": 17,
   "metadata": {},
   "outputs": [],
   "source": [
    "# 信息论概述"
   ]
  },
  {
   "cell_type": "markdown",
   "metadata": {},
   "source": [
    "量化信息\n",
    "\n",
    "* 非常可能发生的事件信息量要比较少，并且极端情况下，确保能够发生的事件应该没有信息量\n",
    "\n",
    "* 较不可能发生的事件具有更高的信息量。\n",
    "\n",
    "* 独立事件应具有增量的信息。例如，投掷的硬币两次正面朝上传递的(有点类似先验$\\to$后验)\n",
    "\n",
    "* 信息量，应该是投掷一次硬币正面朝上的信息量的两倍。"
   ]
  },
  {
   "cell_type": "markdown",
   "metadata": {},
   "source": [
    "离散\n",
    "\n",
    "* 自信息\n",
    "\n",
    "$$h(x) = -logp(x)$$\n",
    "\n",
    "* 熵\n",
    "\n",
    "$$H(x) = -\\sum_{x}p(x)log_2p(x)$$\n",
    "\n",
    "* 0-1分布\n",
    "\n",
    "$$H(x) = -μlog_2μ - (1-μ)log_2(1-μ ) $$"
   ]
  },
  {
   "cell_type": "code",
   "execution_count": 18,
   "metadata": {},
   "outputs": [],
   "source": [
    "# 解释：\n",
    "# 自信息：信息本体，衡量某事件发生时所包含的信息量的多寡\n",
    "# 熵：对信息的量化度量 决策树中用到信息增益\n",
    "# 0-1分布：交叉熵"
   ]
  },
  {
   "cell_type": "markdown",
   "metadata": {},
   "source": [
    "连续\n",
    "\n",
    "* 微分熵(一元)\n",
    "\n",
    "$$-\\lim_{\\Delta \\to 0}\\left\\{\\sum_{i}p(x_i)\\Delta \\ln(p(x_i))\\right\\} = - \\int p(x)\\ln p(x)dx$$\n",
    "\n",
    "* 微分熵(多元)\n",
    "\n",
    "$$H[\\mathbf{x}] = -\\int p(\\mathbf{x}) \\ln p(\\mathbf{x})d\\mathbf{x}$$"
   ]
  },
  {
   "cell_type": "markdown",
   "metadata": {},
   "source": [
    "KL散度(相对熵)\n",
    "\n",
    "* 衡量两个分布的差异\n",
    "\n",
    "$$\\begin{align*}\n",
    "KL(p\\|q) &=  -\\int p(\\mathbf{x}) \\ln q(\\mathbf{x})d\\mathbf{x} - \\left(-\\int p(\\mathbf{x}) \\ln p(\\mathbf{x})d\\mathbf{x}\\right) \\\\\n",
    "&= -\\int p(\\mathbf{x}) \\ln \\left(\\frac{q(\\mathbf{x})}{p(\\mathbf{x})}\\right)d\\mathbf{x}\n",
    "\\end{align*}$$\n",
    "\n",
    "* 非对称性\n",
    "\n",
    "$$KL(p\\|q) ≠ KL(q\\|p)$$\n",
    "\n",
    "* 非负性\n",
    "\n",
    "$$KL(p\\|q) \\ge 0$$\n",
    "\n",
    "* EM算法"
   ]
  },
  {
   "cell_type": "code",
   "execution_count": 19,
   "metadata": {},
   "outputs": [],
   "source": [
    "# 说明：当p=q时，KL(p∥q)=0"
   ]
  }
 ],
 "metadata": {
  "kernelspec": {
   "display_name": "Python 3",
   "language": "python",
   "name": "python3"
  },
  "language_info": {
   "codemirror_mode": {
    "name": "ipython",
    "version": 3
   },
   "file_extension": ".py",
   "mimetype": "text/x-python",
   "name": "python",
   "nbconvert_exporter": "python",
   "pygments_lexer": "ipython3",
   "version": "3.6.6"
  }
 },
 "nbformat": 4,
 "nbformat_minor": 2
}
